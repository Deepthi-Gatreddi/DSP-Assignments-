{
 "cells": [
  {
   "cell_type": "markdown",
   "metadata": {
    "papermill": {
     "duration": 0.038807,
     "end_time": "2020-12-17T19:30:45.393560",
     "exception": false,
     "start_time": "2020-12-17T19:30:45.354753",
     "status": "completed"
    },
    "tags": []
   },
   "source": [
    "## Heart disease using 8 machine learning algorithms :\n",
    "1. Linear Regression        --      61.92\n",
    "2. Logistic Regression      --      92.307 \n",
    "3. Rondom Forest Regression --      67.493\n",
    "4. KNN classifier           --      79.125\n",
    "5. decision tree            --      85.714\n",
    "6. XGBoost                  --      26.680\n",
    "7. naive-bayes              --      91.208\n",
    "8. support vactor machine   --      92.307"
   ]
  },
  {
   "cell_type": "code",
   "execution_count": 1,
   "metadata": {
    "execution": {
     "iopub.execute_input": "2020-12-17T19:30:45.476473Z",
     "iopub.status.busy": "2020-12-17T19:30:45.475828Z",
     "iopub.status.idle": "2020-12-17T19:30:46.597061Z",
     "shell.execute_reply": "2020-12-17T19:30:46.596426Z"
    },
    "papermill": {
     "duration": 1.164706,
     "end_time": "2020-12-17T19:30:46.597194",
     "exception": false,
     "start_time": "2020-12-17T19:30:45.432488",
     "status": "completed"
    },
    "tags": []
   },
   "outputs": [],
   "source": [
    "#importing necessary libraries\n",
    "import pandas as pd\n",
    "import numpy as np\n",
    "import matplotlib.pyplot as plt\n",
    "import seaborn as sns \n",
    "import matplotlib"
   ]
  },
  {
   "cell_type": "code",
   "execution_count": 2,
   "metadata": {
    "execution": {
     "iopub.execute_input": "2020-12-17T19:30:46.685949Z",
     "iopub.status.busy": "2020-12-17T19:30:46.685209Z",
     "iopub.status.idle": "2020-12-17T19:30:46.723767Z",
     "shell.execute_reply": "2020-12-17T19:30:46.723177Z"
    },
    "papermill": {
     "duration": 0.088518,
     "end_time": "2020-12-17T19:30:46.723909",
     "exception": false,
     "start_time": "2020-12-17T19:30:46.635391",
     "status": "completed"
    },
    "tags": []
   },
   "outputs": [
    {
     "data": {
      "text/html": [
       "<div>\n",
       "<style scoped>\n",
       "    .dataframe tbody tr th:only-of-type {\n",
       "        vertical-align: middle;\n",
       "    }\n",
       "\n",
       "    .dataframe tbody tr th {\n",
       "        vertical-align: top;\n",
       "    }\n",
       "\n",
       "    .dataframe thead th {\n",
       "        text-align: right;\n",
       "    }\n",
       "</style>\n",
       "<table border=\"1\" class=\"dataframe\">\n",
       "  <thead>\n",
       "    <tr style=\"text-align: right;\">\n",
       "      <th></th>\n",
       "      <th>age</th>\n",
       "      <th>sex</th>\n",
       "      <th>cp</th>\n",
       "      <th>trestbps</th>\n",
       "      <th>chol</th>\n",
       "      <th>fbs</th>\n",
       "      <th>restecg</th>\n",
       "      <th>thalach</th>\n",
       "      <th>exang</th>\n",
       "      <th>oldpeak</th>\n",
       "      <th>slope</th>\n",
       "      <th>ca</th>\n",
       "      <th>thal</th>\n",
       "      <th>target</th>\n",
       "    </tr>\n",
       "  </thead>\n",
       "  <tbody>\n",
       "    <tr>\n",
       "      <td>0</td>\n",
       "      <td>63</td>\n",
       "      <td>1</td>\n",
       "      <td>3</td>\n",
       "      <td>145</td>\n",
       "      <td>233</td>\n",
       "      <td>1</td>\n",
       "      <td>0</td>\n",
       "      <td>150</td>\n",
       "      <td>0</td>\n",
       "      <td>2.3</td>\n",
       "      <td>0</td>\n",
       "      <td>0</td>\n",
       "      <td>1</td>\n",
       "      <td>1</td>\n",
       "    </tr>\n",
       "    <tr>\n",
       "      <td>1</td>\n",
       "      <td>37</td>\n",
       "      <td>1</td>\n",
       "      <td>2</td>\n",
       "      <td>130</td>\n",
       "      <td>250</td>\n",
       "      <td>0</td>\n",
       "      <td>1</td>\n",
       "      <td>187</td>\n",
       "      <td>0</td>\n",
       "      <td>3.5</td>\n",
       "      <td>0</td>\n",
       "      <td>0</td>\n",
       "      <td>2</td>\n",
       "      <td>1</td>\n",
       "    </tr>\n",
       "    <tr>\n",
       "      <td>2</td>\n",
       "      <td>41</td>\n",
       "      <td>0</td>\n",
       "      <td>1</td>\n",
       "      <td>130</td>\n",
       "      <td>204</td>\n",
       "      <td>0</td>\n",
       "      <td>0</td>\n",
       "      <td>172</td>\n",
       "      <td>0</td>\n",
       "      <td>1.4</td>\n",
       "      <td>2</td>\n",
       "      <td>0</td>\n",
       "      <td>2</td>\n",
       "      <td>1</td>\n",
       "    </tr>\n",
       "    <tr>\n",
       "      <td>3</td>\n",
       "      <td>56</td>\n",
       "      <td>1</td>\n",
       "      <td>1</td>\n",
       "      <td>120</td>\n",
       "      <td>236</td>\n",
       "      <td>0</td>\n",
       "      <td>1</td>\n",
       "      <td>178</td>\n",
       "      <td>0</td>\n",
       "      <td>0.8</td>\n",
       "      <td>2</td>\n",
       "      <td>0</td>\n",
       "      <td>2</td>\n",
       "      <td>1</td>\n",
       "    </tr>\n",
       "    <tr>\n",
       "      <td>4</td>\n",
       "      <td>57</td>\n",
       "      <td>0</td>\n",
       "      <td>0</td>\n",
       "      <td>120</td>\n",
       "      <td>354</td>\n",
       "      <td>0</td>\n",
       "      <td>1</td>\n",
       "      <td>163</td>\n",
       "      <td>1</td>\n",
       "      <td>0.6</td>\n",
       "      <td>2</td>\n",
       "      <td>0</td>\n",
       "      <td>2</td>\n",
       "      <td>1</td>\n",
       "    </tr>\n",
       "  </tbody>\n",
       "</table>\n",
       "</div>"
      ],
      "text/plain": [
       "   age  sex  cp  trestbps  chol  fbs  restecg  thalach  exang  oldpeak  slope  \\\n",
       "0   63    1   3       145   233    1        0      150      0      2.3      0   \n",
       "1   37    1   2       130   250    0        1      187      0      3.5      0   \n",
       "2   41    0   1       130   204    0        0      172      0      1.4      2   \n",
       "3   56    1   1       120   236    0        1      178      0      0.8      2   \n",
       "4   57    0   0       120   354    0        1      163      1      0.6      2   \n",
       "\n",
       "   ca  thal  target  \n",
       "0   0     1       1  \n",
       "1   0     2       1  \n",
       "2   0     2       1  \n",
       "3   0     2       1  \n",
       "4   0     2       1  "
      ]
     },
     "execution_count": 2,
     "metadata": {},
     "output_type": "execute_result"
    }
   ],
   "source": [
    "#importing data set\n",
    "data=pd.read_csv(\"heart-disease.csv\")\n",
    "data.head()"
   ]
  },
  {
   "cell_type": "code",
   "execution_count": 3,
   "metadata": {},
   "outputs": [
    {
     "data": {
      "text/plain": [
       "(303, 14)"
      ]
     },
     "execution_count": 3,
     "metadata": {},
     "output_type": "execute_result"
    }
   ],
   "source": [
    "data.shape"
   ]
  },
  {
   "cell_type": "markdown",
   "metadata": {
    "papermill": {
     "duration": 0.038154,
     "end_time": "2020-12-17T19:30:46.801580",
     "exception": false,
     "start_time": "2020-12-17T19:30:46.763426",
     "status": "completed"
    },
    "tags": []
   },
   "source": [
    "# data information"
   ]
  },
  {
   "cell_type": "markdown",
   "metadata": {},
   "source": [
    "### List of  variables:\n",
    "\n",
    "List of variables:\n",
    "\n",
    "1. age: continuous\n",
    "2. sex: categorical, 2 values {0: female, 1: male}\n",
    "3. cp (chest pain type): categorical, 4 values {1: typical angina, 2: atypical angina, 3: non-angina, 4: asymptomatic angina}\n",
    "4. restbp (resting blood pressure on admission to hospital): continuous (mmHg) //high bp high chances for heart disese\n",
    "5. chol (serum cholesterol level): continuous (mg/dl) //hign colestral high danger\n",
    "6. fbs (fasting blood sugar): categorical, 2 values {0: <= 120 mg/dl, 1: > 120 mg/dl} //low glucose or impaired fasting glucose    are predictions for heart disease\n",
    "7. restecg (resting electrocardiography): categorical, 3 values abnornmal value will make help to discover but very littke {0:    normal, 1: ST-T wave abnormality, 2: left ventricular hypertrophy}\n",
    "8. thalach (maximum heart rate achieved): continuous //increse in the heart beat rate leads to heart disease\n",
    "9. exang (exercise induced angina): categorical, 2 values {0: no, 1: yes} //if there is chest pain then it may leads to heart       disesase\n",
    "10. oldpeak (ST depression induced by exercise relative to rest): continuous // it related to exang,how much high the pain is\n",
    "11. slope (slope of peak exercise ST segment): categorical, 3 values {1: upsloping, 2: flat, 3: downsloping} //plays an             important role in determaining heart disease with the help of heart beat\n",
    "12. ca (number of major vessels colored by fluoroscopy): discrete (0,1,2,3)\n",
    "13. thal: categorical, 3 values {3: normal, 6: fixed defect, 7: reversible defect}\n",
    "14. target: (diagnosis of heart disease): categorical, 5 values {0: less than 50% narrowing in any major vessel, 1-4: more than     50% narrowing in 1-4 vessels} simply {0=not having heart disease,1=having heart disease}\n",
    "    "
   ]
  },
  {
   "cell_type": "code",
   "execution_count": 4,
   "metadata": {
    "execution": {
     "iopub.execute_input": "2020-12-17T19:30:46.892960Z",
     "iopub.status.busy": "2020-12-17T19:30:46.892248Z",
     "iopub.status.idle": "2020-12-17T19:30:46.896502Z",
     "shell.execute_reply": "2020-12-17T19:30:46.896973Z"
    },
    "papermill": {
     "duration": 0.05672,
     "end_time": "2020-12-17T19:30:46.897121",
     "exception": false,
     "start_time": "2020-12-17T19:30:46.840401",
     "status": "completed"
    },
    "tags": []
   },
   "outputs": [
    {
     "name": "stdout",
     "output_type": "stream",
     "text": [
      "<class 'pandas.core.frame.DataFrame'>\n",
      "RangeIndex: 303 entries, 0 to 302\n",
      "Data columns (total 14 columns):\n",
      "age         303 non-null int64\n",
      "sex         303 non-null int64\n",
      "cp          303 non-null int64\n",
      "trestbps    303 non-null int64\n",
      "chol        303 non-null int64\n",
      "fbs         303 non-null int64\n",
      "restecg     303 non-null int64\n",
      "thalach     303 non-null int64\n",
      "exang       303 non-null int64\n",
      "oldpeak     303 non-null float64\n",
      "slope       303 non-null int64\n",
      "ca          303 non-null int64\n",
      "thal        303 non-null int64\n",
      "target      303 non-null int64\n",
      "dtypes: float64(1), int64(13)\n",
      "memory usage: 33.3 KB\n"
     ]
    }
   ],
   "source": [
    "#Dataset columns information\n",
    "data.info()"
   ]
  },
  {
   "cell_type": "code",
   "execution_count": 5,
   "metadata": {
    "execution": {
     "iopub.execute_input": "2020-12-17T19:30:46.986068Z",
     "iopub.status.busy": "2020-12-17T19:30:46.985322Z",
     "iopub.status.idle": "2020-12-17T19:30:47.033072Z",
     "shell.execute_reply": "2020-12-17T19:30:47.033718Z"
    },
    "papermill": {
     "duration": 0.097299,
     "end_time": "2020-12-17T19:30:47.033900",
     "exception": false,
     "start_time": "2020-12-17T19:30:46.936601",
     "status": "completed"
    },
    "tags": []
   },
   "outputs": [
    {
     "data": {
      "text/html": [
       "<div>\n",
       "<style scoped>\n",
       "    .dataframe tbody tr th:only-of-type {\n",
       "        vertical-align: middle;\n",
       "    }\n",
       "\n",
       "    .dataframe tbody tr th {\n",
       "        vertical-align: top;\n",
       "    }\n",
       "\n",
       "    .dataframe thead th {\n",
       "        text-align: right;\n",
       "    }\n",
       "</style>\n",
       "<table border=\"1\" class=\"dataframe\">\n",
       "  <thead>\n",
       "    <tr style=\"text-align: right;\">\n",
       "      <th></th>\n",
       "      <th>age</th>\n",
       "      <th>sex</th>\n",
       "      <th>cp</th>\n",
       "      <th>trestbps</th>\n",
       "      <th>chol</th>\n",
       "      <th>fbs</th>\n",
       "      <th>restecg</th>\n",
       "      <th>thalach</th>\n",
       "      <th>exang</th>\n",
       "      <th>oldpeak</th>\n",
       "      <th>slope</th>\n",
       "      <th>ca</th>\n",
       "      <th>thal</th>\n",
       "      <th>target</th>\n",
       "    </tr>\n",
       "  </thead>\n",
       "  <tbody>\n",
       "    <tr>\n",
       "      <td>count</td>\n",
       "      <td>303.000000</td>\n",
       "      <td>303.000000</td>\n",
       "      <td>303.000000</td>\n",
       "      <td>303.000000</td>\n",
       "      <td>303.000000</td>\n",
       "      <td>303.000000</td>\n",
       "      <td>303.000000</td>\n",
       "      <td>303.000000</td>\n",
       "      <td>303.000000</td>\n",
       "      <td>303.000000</td>\n",
       "      <td>303.000000</td>\n",
       "      <td>303.000000</td>\n",
       "      <td>303.000000</td>\n",
       "      <td>303.000000</td>\n",
       "    </tr>\n",
       "    <tr>\n",
       "      <td>mean</td>\n",
       "      <td>54.366337</td>\n",
       "      <td>0.683168</td>\n",
       "      <td>0.966997</td>\n",
       "      <td>131.623762</td>\n",
       "      <td>246.264026</td>\n",
       "      <td>0.148515</td>\n",
       "      <td>0.528053</td>\n",
       "      <td>149.646865</td>\n",
       "      <td>0.326733</td>\n",
       "      <td>1.039604</td>\n",
       "      <td>1.399340</td>\n",
       "      <td>0.729373</td>\n",
       "      <td>2.313531</td>\n",
       "      <td>0.544554</td>\n",
       "    </tr>\n",
       "    <tr>\n",
       "      <td>std</td>\n",
       "      <td>9.082101</td>\n",
       "      <td>0.466011</td>\n",
       "      <td>1.032052</td>\n",
       "      <td>17.538143</td>\n",
       "      <td>51.830751</td>\n",
       "      <td>0.356198</td>\n",
       "      <td>0.525860</td>\n",
       "      <td>22.905161</td>\n",
       "      <td>0.469794</td>\n",
       "      <td>1.161075</td>\n",
       "      <td>0.616226</td>\n",
       "      <td>1.022606</td>\n",
       "      <td>0.612277</td>\n",
       "      <td>0.498835</td>\n",
       "    </tr>\n",
       "    <tr>\n",
       "      <td>min</td>\n",
       "      <td>29.000000</td>\n",
       "      <td>0.000000</td>\n",
       "      <td>0.000000</td>\n",
       "      <td>94.000000</td>\n",
       "      <td>126.000000</td>\n",
       "      <td>0.000000</td>\n",
       "      <td>0.000000</td>\n",
       "      <td>71.000000</td>\n",
       "      <td>0.000000</td>\n",
       "      <td>0.000000</td>\n",
       "      <td>0.000000</td>\n",
       "      <td>0.000000</td>\n",
       "      <td>0.000000</td>\n",
       "      <td>0.000000</td>\n",
       "    </tr>\n",
       "    <tr>\n",
       "      <td>25%</td>\n",
       "      <td>47.500000</td>\n",
       "      <td>0.000000</td>\n",
       "      <td>0.000000</td>\n",
       "      <td>120.000000</td>\n",
       "      <td>211.000000</td>\n",
       "      <td>0.000000</td>\n",
       "      <td>0.000000</td>\n",
       "      <td>133.500000</td>\n",
       "      <td>0.000000</td>\n",
       "      <td>0.000000</td>\n",
       "      <td>1.000000</td>\n",
       "      <td>0.000000</td>\n",
       "      <td>2.000000</td>\n",
       "      <td>0.000000</td>\n",
       "    </tr>\n",
       "    <tr>\n",
       "      <td>50%</td>\n",
       "      <td>55.000000</td>\n",
       "      <td>1.000000</td>\n",
       "      <td>1.000000</td>\n",
       "      <td>130.000000</td>\n",
       "      <td>240.000000</td>\n",
       "      <td>0.000000</td>\n",
       "      <td>1.000000</td>\n",
       "      <td>153.000000</td>\n",
       "      <td>0.000000</td>\n",
       "      <td>0.800000</td>\n",
       "      <td>1.000000</td>\n",
       "      <td>0.000000</td>\n",
       "      <td>2.000000</td>\n",
       "      <td>1.000000</td>\n",
       "    </tr>\n",
       "    <tr>\n",
       "      <td>75%</td>\n",
       "      <td>61.000000</td>\n",
       "      <td>1.000000</td>\n",
       "      <td>2.000000</td>\n",
       "      <td>140.000000</td>\n",
       "      <td>274.500000</td>\n",
       "      <td>0.000000</td>\n",
       "      <td>1.000000</td>\n",
       "      <td>166.000000</td>\n",
       "      <td>1.000000</td>\n",
       "      <td>1.600000</td>\n",
       "      <td>2.000000</td>\n",
       "      <td>1.000000</td>\n",
       "      <td>3.000000</td>\n",
       "      <td>1.000000</td>\n",
       "    </tr>\n",
       "    <tr>\n",
       "      <td>max</td>\n",
       "      <td>77.000000</td>\n",
       "      <td>1.000000</td>\n",
       "      <td>3.000000</td>\n",
       "      <td>200.000000</td>\n",
       "      <td>564.000000</td>\n",
       "      <td>1.000000</td>\n",
       "      <td>2.000000</td>\n",
       "      <td>202.000000</td>\n",
       "      <td>1.000000</td>\n",
       "      <td>6.200000</td>\n",
       "      <td>2.000000</td>\n",
       "      <td>4.000000</td>\n",
       "      <td>3.000000</td>\n",
       "      <td>1.000000</td>\n",
       "    </tr>\n",
       "  </tbody>\n",
       "</table>\n",
       "</div>"
      ],
      "text/plain": [
       "              age         sex          cp    trestbps        chol         fbs  \\\n",
       "count  303.000000  303.000000  303.000000  303.000000  303.000000  303.000000   \n",
       "mean    54.366337    0.683168    0.966997  131.623762  246.264026    0.148515   \n",
       "std      9.082101    0.466011    1.032052   17.538143   51.830751    0.356198   \n",
       "min     29.000000    0.000000    0.000000   94.000000  126.000000    0.000000   \n",
       "25%     47.500000    0.000000    0.000000  120.000000  211.000000    0.000000   \n",
       "50%     55.000000    1.000000    1.000000  130.000000  240.000000    0.000000   \n",
       "75%     61.000000    1.000000    2.000000  140.000000  274.500000    0.000000   \n",
       "max     77.000000    1.000000    3.000000  200.000000  564.000000    1.000000   \n",
       "\n",
       "          restecg     thalach       exang     oldpeak       slope          ca  \\\n",
       "count  303.000000  303.000000  303.000000  303.000000  303.000000  303.000000   \n",
       "mean     0.528053  149.646865    0.326733    1.039604    1.399340    0.729373   \n",
       "std      0.525860   22.905161    0.469794    1.161075    0.616226    1.022606   \n",
       "min      0.000000   71.000000    0.000000    0.000000    0.000000    0.000000   \n",
       "25%      0.000000  133.500000    0.000000    0.000000    1.000000    0.000000   \n",
       "50%      1.000000  153.000000    0.000000    0.800000    1.000000    0.000000   \n",
       "75%      1.000000  166.000000    1.000000    1.600000    2.000000    1.000000   \n",
       "max      2.000000  202.000000    1.000000    6.200000    2.000000    4.000000   \n",
       "\n",
       "             thal      target  \n",
       "count  303.000000  303.000000  \n",
       "mean     2.313531    0.544554  \n",
       "std      0.612277    0.498835  \n",
       "min      0.000000    0.000000  \n",
       "25%      2.000000    0.000000  \n",
       "50%      2.000000    1.000000  \n",
       "75%      3.000000    1.000000  \n",
       "max      3.000000    1.000000  "
      ]
     },
     "execution_count": 5,
     "metadata": {},
     "output_type": "execute_result"
    }
   ],
   "source": [
    "#each numerical value statistics in the dataset\n",
    "data.describe()"
   ]
  },
  {
   "cell_type": "code",
   "execution_count": 6,
   "metadata": {
    "execution": {
     "iopub.execute_input": "2020-12-17T19:30:47.123128Z",
     "iopub.status.busy": "2020-12-17T19:30:47.122063Z",
     "iopub.status.idle": "2020-12-17T19:30:47.126400Z",
     "shell.execute_reply": "2020-12-17T19:30:47.125689Z"
    },
    "papermill": {
     "duration": 0.050344,
     "end_time": "2020-12-17T19:30:47.126517",
     "exception": false,
     "start_time": "2020-12-17T19:30:47.076173",
     "status": "completed"
    },
    "tags": []
   },
   "outputs": [
    {
     "data": {
      "text/plain": [
       "Index(['age', 'sex', 'cp', 'trestbps', 'chol', 'fbs', 'restecg', 'thalach',\n",
       "       'exang', 'oldpeak', 'slope', 'ca', 'thal', 'target'],\n",
       "      dtype='object')"
      ]
     },
     "execution_count": 6,
     "metadata": {},
     "output_type": "execute_result"
    }
   ],
   "source": [
    "#columns names\n",
    "data.columns"
   ]
  },
  {
   "cell_type": "markdown",
   "metadata": {
    "papermill": {
     "duration": 0.040291,
     "end_time": "2020-12-17T19:30:47.288349",
     "exception": false,
     "start_time": "2020-12-17T19:30:47.248058",
     "status": "completed"
    },
    "tags": []
   },
   "source": [
    "## Finding missing values"
   ]
  },
  {
   "cell_type": "code",
   "execution_count": 7,
   "metadata": {
    "execution": {
     "iopub.execute_input": "2020-12-17T19:30:47.381487Z",
     "iopub.status.busy": "2020-12-17T19:30:47.380282Z",
     "iopub.status.idle": "2020-12-17T19:30:47.385013Z",
     "shell.execute_reply": "2020-12-17T19:30:47.384468Z"
    },
    "papermill": {
     "duration": 0.05459,
     "end_time": "2020-12-17T19:30:47.385139",
     "exception": false,
     "start_time": "2020-12-17T19:30:47.330549",
     "status": "completed"
    },
    "tags": []
   },
   "outputs": [
    {
     "data": {
      "text/plain": [
       "age         0\n",
       "sex         0\n",
       "cp          0\n",
       "trestbps    0\n",
       "chol        0\n",
       "fbs         0\n",
       "restecg     0\n",
       "thalach     0\n",
       "exang       0\n",
       "oldpeak     0\n",
       "slope       0\n",
       "ca          0\n",
       "thal        0\n",
       "target      0\n",
       "dtype: int64"
      ]
     },
     "execution_count": 7,
     "metadata": {},
     "output_type": "execute_result"
    }
   ],
   "source": [
    "#to check the number of null values present\n",
    "data.isnull().sum()"
   ]
  },
  {
   "cell_type": "markdown",
   "metadata": {
    "papermill": {
     "duration": 0.042667,
     "end_time": "2020-12-17T19:30:47.552282",
     "exception": false,
     "start_time": "2020-12-17T19:30:47.509615",
     "status": "completed"
    },
    "tags": []
   },
   "source": [
    "# data correlation "
   ]
  },
  {
   "cell_type": "code",
   "execution_count": 8,
   "metadata": {
    "execution": {
     "iopub.execute_input": "2020-12-17T19:30:47.637913Z",
     "iopub.status.busy": "2020-12-17T19:30:47.637181Z",
     "iopub.status.idle": "2020-12-17T19:30:47.663012Z",
     "shell.execute_reply": "2020-12-17T19:30:47.662457Z"
    },
    "papermill": {
     "duration": 0.07031,
     "end_time": "2020-12-17T19:30:47.663142",
     "exception": false,
     "start_time": "2020-12-17T19:30:47.592832",
     "status": "completed"
    },
    "scrolled": true,
    "tags": []
   },
   "outputs": [
    {
     "data": {
      "text/plain": [
       "sex        -0.280937\n",
       "cp          0.433798\n",
       "trestbps   -0.144931\n",
       "chol       -0.085239\n",
       "fbs        -0.028046\n",
       "restecg     0.137230\n",
       "thalach     0.421741\n",
       "exang      -0.436757\n",
       "oldpeak    -0.430696\n",
       "slope       0.345877\n",
       "ca         -0.391724\n",
       "thal       -0.344029\n",
       "target      1.000000\n",
       "Name: target, dtype: float64"
      ]
     },
     "execution_count": 8,
     "metadata": {},
     "output_type": "execute_result"
    }
   ],
   "source": [
    "#to check the correlation between the target and input variables\n",
    "data[data.columns[1:]].corr()['target'][:]"
   ]
  },
  {
   "cell_type": "markdown",
   "metadata": {},
   "source": [
    "The correlation between fbs,chol and target is less so we can remove them"
   ]
  },
  {
   "cell_type": "code",
   "execution_count": 9,
   "metadata": {
    "execution": {
     "iopub.execute_input": "2020-12-17T19:30:47.753830Z",
     "iopub.status.busy": "2020-12-17T19:30:47.753119Z",
     "iopub.status.idle": "2020-12-17T19:30:47.758072Z",
     "shell.execute_reply": "2020-12-17T19:30:47.757421Z"
    },
    "papermill": {
     "duration": 0.052318,
     "end_time": "2020-12-17T19:30:47.758185",
     "exception": false,
     "start_time": "2020-12-17T19:30:47.705867",
     "status": "completed"
    },
    "tags": []
   },
   "outputs": [],
   "source": [
    "#droping the unimportant variables\n",
    "data=data.drop(['fbs','chol'],axis=1)"
   ]
  },
  {
   "cell_type": "markdown",
   "metadata": {
    "papermill": {
     "duration": 0.042362,
     "end_time": "2020-12-17T19:30:47.843984",
     "exception": false,
     "start_time": "2020-12-17T19:30:47.801622",
     "status": "completed"
    },
    "tags": []
   },
   "source": [
    "# vizualisation "
   ]
  },
  {
   "cell_type": "code",
   "execution_count": 10,
   "metadata": {
    "execution": {
     "iopub.execute_input": "2020-12-17T19:30:48.027867Z",
     "iopub.status.busy": "2020-12-17T19:30:48.027174Z",
     "iopub.status.idle": "2020-12-17T19:30:49.867705Z",
     "shell.execute_reply": "2020-12-17T19:30:49.868232Z"
    },
    "papermill": {
     "duration": 1.888726,
     "end_time": "2020-12-17T19:30:49.868373",
     "exception": false,
     "start_time": "2020-12-17T19:30:47.979647",
     "status": "completed"
    },
    "tags": []
   },
   "outputs": [
    {
     "data": {
      "text/plain": [
       "array([[<matplotlib.axes._subplots.AxesSubplot object at 0x000001E2BB9F9C08>,\n",
       "        <matplotlib.axes._subplots.AxesSubplot object at 0x000001E2BBA4EA88>,\n",
       "        <matplotlib.axes._subplots.AxesSubplot object at 0x000001E2BBA8A348>],\n",
       "       [<matplotlib.axes._subplots.AxesSubplot object at 0x000001E2BCA92088>,\n",
       "        <matplotlib.axes._subplots.AxesSubplot object at 0x000001E2BCACC148>,\n",
       "        <matplotlib.axes._subplots.AxesSubplot object at 0x000001E2BCB03248>],\n",
       "       [<matplotlib.axes._subplots.AxesSubplot object at 0x000001E2BCB3C348>,\n",
       "        <matplotlib.axes._subplots.AxesSubplot object at 0x000001E2BCB79F88>,\n",
       "        <matplotlib.axes._subplots.AxesSubplot object at 0x000001E2BCB81088>],\n",
       "       [<matplotlib.axes._subplots.AxesSubplot object at 0x000001E2BCBB8248>,\n",
       "        <matplotlib.axes._subplots.AxesSubplot object at 0x000001E2BCC1A788>,\n",
       "        <matplotlib.axes._subplots.AxesSubplot object at 0x000001E2BCC52888>]],\n",
       "      dtype=object)"
      ]
     },
     "execution_count": 10,
     "metadata": {},
     "output_type": "execute_result"
    },
    {
     "data": {
      "image/png": "[encoded data removed]",
      "text/plain": [
       "<Figure size 936x936 with 12 Axes>"
      ]
     },
     "metadata": {
      "needs_background": "light"
     },
     "output_type": "display_data"
    }
   ],
   "source": [
    "#distribution of each continous variables\n",
    "a1=data.hist(bins=5,figsize=(13,13))\n",
    "a1"
   ]
  },
  {
   "cell_type": "code",
   "execution_count": 11,
   "metadata": {
    "scrolled": false
   },
   "outputs": [
    {
     "data": {
      "image/png": "[encoded data removed]",
      "text/plain": [
       "<Figure size 432x288 with 1 Axes>"
      ]
     },
     "metadata": {
      "needs_background": "light"
     },
     "output_type": "display_data"
    }
   ],
   "source": [
    "#to check if there are any outliers present or not\n",
    "for i in data.columns:\n",
    "    plt.boxplot(data[i])"
   ]
  },
  {
   "cell_type": "markdown",
   "metadata": {},
   "source": [
    "There are very less outliers present in the data."
   ]
  },
  {
   "cell_type": "code",
   "execution_count": 12,
   "metadata": {
    "execution": {
     "iopub.execute_input": "2020-12-17T19:30:50.055842Z",
     "iopub.status.busy": "2020-12-17T19:30:50.055153Z",
     "iopub.status.idle": "2020-12-17T19:30:50.176611Z",
     "shell.execute_reply": "2020-12-17T19:30:50.176046Z"
    },
    "papermill": {
     "duration": 0.179249,
     "end_time": "2020-12-17T19:30:50.176736",
     "exception": false,
     "start_time": "2020-12-17T19:30:49.997487",
     "status": "completed"
    },
    "tags": []
   },
   "outputs": [
    {
     "data": {
      "image/png": "[encoded data removed]",
      "text/plain": [
       "<Figure size 432x288 with 1 Axes>"
      ]
     },
     "metadata": {
      "needs_background": "light"
     },
     "output_type": "display_data"
    }
   ],
   "source": [
    "#countplot for the target variable\n",
    "sns.countplot(x='target',data=data)\n",
    "plt.title('target = 1 or 0');"
   ]
  },
  {
   "cell_type": "code",
   "execution_count": 13,
   "metadata": {
    "execution": {
     "iopub.execute_input": "2020-12-17T19:30:50.362177Z",
     "iopub.status.busy": "2020-12-17T19:30:50.361418Z",
     "iopub.status.idle": "2020-12-17T19:30:50.525550Z",
     "shell.execute_reply": "2020-12-17T19:30:50.524912Z"
    },
    "papermill": {
     "duration": 0.215659,
     "end_time": "2020-12-17T19:30:50.525664",
     "exception": false,
     "start_time": "2020-12-17T19:30:50.310005",
     "status": "completed"
    },
    "tags": []
   },
   "outputs": [
    {
     "data": {
      "text/plain": [
       "\"#count plot between target and fasting blood sugar variables\\nsns.countplot(x='fbs',hue='target',data=data)\\nplt.xlabel('fbs')\""
      ]
     },
     "execution_count": 13,
     "metadata": {},
     "output_type": "execute_result"
    }
   ],
   "source": [
    "\"\"\"#count plot between target and fasting blood sugar variables\n",
    "sns.countplot(x='fbs',hue='target',data=data)\n",
    "plt.xlabel('fbs')\"\"\""
   ]
  },
  {
   "cell_type": "markdown",
   "metadata": {},
   "source": [
    "we can see from above that fbs variable is not impacting the output variable.That's why we removed it"
   ]
  },
  {
   "cell_type": "code",
   "execution_count": 14,
   "metadata": {},
   "outputs": [
    {
     "data": {
      "text/plain": [
       "Text(0.5, 0, 'cp')"
      ]
     },
     "execution_count": 14,
     "metadata": {},
     "output_type": "execute_result"
    },
    {
     "data": {
      "image/png": "[encoded data removed]",
      "text/plain": [
       "<Figure size 432x288 with 1 Axes>"
      ]
     },
     "metadata": {
      "needs_background": "light"
     },
     "output_type": "display_data"
    }
   ],
   "source": [
    "#countplot between target and chest pain type variables\n",
    "sns.countplot(x='cp',hue='target',data=data)\n",
    "plt.xlabel('cp')"
   ]
  },
  {
   "cell_type": "code",
   "execution_count": 15,
   "metadata": {},
   "outputs": [
    {
     "data": {
      "text/plain": [
       "Text(0.5, 0, 'exang')"
      ]
     },
     "execution_count": 15,
     "metadata": {},
     "output_type": "execute_result"
    },
    {
     "data": {
      "image/png": "[encoded data removed]",
      "text/plain": [
       "<Figure size 432x288 with 1 Axes>"
      ]
     },
     "metadata": {
      "needs_background": "light"
     },
     "output_type": "display_data"
    }
   ],
   "source": [
    "#countplot between exang and target variables\n",
    "sns.countplot(x='exang',hue='target',data=data)\n",
    "plt.xlabel('exang')"
   ]
  },
  {
   "cell_type": "code",
   "execution_count": 16,
   "metadata": {},
   "outputs": [
    {
     "data": {
      "text/plain": [
       "Text(0.5, 0, 'slope')"
      ]
     },
     "execution_count": 16,
     "metadata": {},
     "output_type": "execute_result"
    },
    {
     "data": {
      "image/png": "[encoded data removed]",
      "text/plain": [
       "<Figure size 432x288 with 1 Axes>"
      ]
     },
     "metadata": {
      "needs_background": "light"
     },
     "output_type": "display_data"
    }
   ],
   "source": [
    "#countplot between slope and target variables\n",
    "sns.countplot(x='slope',hue='target',data=data)\n",
    "plt.xlabel('slope')"
   ]
  },
  {
   "cell_type": "code",
   "execution_count": 17,
   "metadata": {},
   "outputs": [
    {
     "data": {
      "text/plain": [
       "Text(0.5, 0, 'thal')"
      ]
     },
     "execution_count": 17,
     "metadata": {},
     "output_type": "execute_result"
    },
    {
     "data": {
      "image/png": "[encoded data removed]",
      "text/plain": [
       "<Figure size 432x288 with 1 Axes>"
      ]
     },
     "metadata": {
      "needs_background": "light"
     },
     "output_type": "display_data"
    }
   ],
   "source": [
    "#countplot between thal and target variables\n",
    "sns.countplot(x='thal',hue='target',data=data)\n",
    "plt.xlabel('thal')"
   ]
  },
  {
   "cell_type": "code",
   "execution_count": 18,
   "metadata": {},
   "outputs": [
    {
     "data": {
      "text/plain": [
       "Text(0.5, 0, 'ca')"
      ]
     },
     "execution_count": 18,
     "metadata": {},
     "output_type": "execute_result"
    },
    {
     "data": {
      "image/png": "[encoded data removed]",
      "text/plain": [
       "<Figure size 432x288 with 1 Axes>"
      ]
     },
     "metadata": {
      "needs_background": "light"
     },
     "output_type": "display_data"
    }
   ],
   "source": [
    "#countplot between ca and target variables\n",
    "sns.countplot(x='ca',hue='target',data=data)\n",
    "plt.xlabel('ca')"
   ]
  },
  {
   "cell_type": "code",
   "execution_count": 19,
   "metadata": {
    "scrolled": true
   },
   "outputs": [
    {
     "data": {
      "text/plain": [
       "Text(0.5, 0, 'restecg')"
      ]
     },
     "execution_count": 19,
     "metadata": {},
     "output_type": "execute_result"
    },
    {
     "data": {
      "image/png": "[encoded data removed]",
      "text/plain": [
       "<Figure size 432x288 with 1 Axes>"
      ]
     },
     "metadata": {
      "needs_background": "light"
     },
     "output_type": "display_data"
    }
   ],
   "source": [
    "#countplot between restecg and target variables\n",
    "sns.countplot(x='restecg',hue='target',data=data)\n",
    "plt.xlabel('restecg')"
   ]
  },
  {
   "cell_type": "markdown",
   "metadata": {},
   "source": [
    "From the above plot we can say that restecg have very less effect on the target variable.so we can remove this variable"
   ]
  },
  {
   "cell_type": "code",
   "execution_count": 20,
   "metadata": {},
   "outputs": [
    {
     "data": {
      "text/plain": [
       "Text(0.5, 0, 'sex')"
      ]
     },
     "execution_count": 20,
     "metadata": {},
     "output_type": "execute_result"
    },
    {
     "data": {
      "image/png": "[encoded data removed]",
      "text/plain": [
       "<Figure size 432x288 with 1 Axes>"
      ]
     },
     "metadata": {
      "needs_background": "light"
     },
     "output_type": "display_data"
    }
   ],
   "source": [
    "#countplot between sex and target variables\n",
    "sns.countplot(x='sex',hue='target',data=data)\n",
    "plt.xlabel('sex')"
   ]
  },
  {
   "cell_type": "code",
   "execution_count": 21,
   "metadata": {},
   "outputs": [],
   "source": [
    "data=data.drop(['restecg'],axis=1)"
   ]
  },
  {
   "cell_type": "markdown",
   "metadata": {
    "papermill": {
     "duration": 0.045575,
     "end_time": "2020-12-17T19:30:51.261115",
     "exception": false,
     "start_time": "2020-12-17T19:30:51.215540",
     "status": "completed"
    },
    "tags": []
   },
   "source": [
    "# import library and spliting data "
   ]
  },
  {
   "cell_type": "code",
   "execution_count": 22,
   "metadata": {
    "execution": {
     "iopub.execute_input": "2020-12-17T19:30:51.359883Z",
     "iopub.status.busy": "2020-12-17T19:30:51.359153Z",
     "iopub.status.idle": "2020-12-17T19:30:51.478302Z",
     "shell.execute_reply": "2020-12-17T19:30:51.477460Z"
    },
    "papermill": {
     "duration": 0.17001,
     "end_time": "2020-12-17T19:30:51.478441",
     "exception": false,
     "start_time": "2020-12-17T19:30:51.308431",
     "status": "completed"
    },
    "tags": []
   },
   "outputs": [],
   "source": [
    "from sklearn.model_selection import train_test_split \n",
    "from sklearn import metrics\n",
    "from sklearn.metrics import accuracy_score"
   ]
  },
  {
   "cell_type": "code",
   "execution_count": 23,
   "metadata": {
    "execution": {
     "iopub.execute_input": "2020-12-17T19:30:51.578608Z",
     "iopub.status.busy": "2020-12-17T19:30:51.577931Z",
     "iopub.status.idle": "2020-12-17T19:30:51.580956Z",
     "shell.execute_reply": "2020-12-17T19:30:51.580299Z"
    },
    "papermill": {
     "duration": 0.055638,
     "end_time": "2020-12-17T19:30:51.581093",
     "exception": false,
     "start_time": "2020-12-17T19:30:51.525455",
     "status": "completed"
    },
    "tags": []
   },
   "outputs": [],
   "source": [
    "x=data.drop(['target'],axis=1)\n",
    "y=data.target"
   ]
  },
  {
   "cell_type": "code",
   "execution_count": 24,
   "metadata": {
    "execution": {
     "iopub.execute_input": "2020-12-17T19:30:51.680391Z",
     "iopub.status.busy": "2020-12-17T19:30:51.679719Z",
     "iopub.status.idle": "2020-12-17T19:30:51.682646Z",
     "shell.execute_reply": "2020-12-17T19:30:51.682005Z"
    },
    "papermill": {
     "duration": 0.05529,
     "end_time": "2020-12-17T19:30:51.682769",
     "exception": false,
     "start_time": "2020-12-17T19:30:51.627479",
     "status": "completed"
    },
    "tags": []
   },
   "outputs": [],
   "source": [
    "x_train, x_test, y_train, y_test = train_test_split(x, y, test_size = 0.30,random_state=5)"
   ]
  },
  {
   "cell_type": "code",
   "execution_count": 25,
   "metadata": {
    "execution": {
     "iopub.execute_input": "2020-12-17T19:30:51.780605Z",
     "iopub.status.busy": "2020-12-17T19:30:51.779740Z",
     "iopub.status.idle": "2020-12-17T19:30:51.783169Z",
     "shell.execute_reply": "2020-12-17T19:30:51.783691Z"
    },
    "papermill": {
     "duration": 0.05462,
     "end_time": "2020-12-17T19:30:51.783848",
     "exception": false,
     "start_time": "2020-12-17T19:30:51.729228",
     "status": "completed"
    },
    "tags": []
   },
   "outputs": [
    {
     "name": "stdout",
     "output_type": "stream",
     "text": [
      "(212, 10) (212,) (91, 10) (91,)\n"
     ]
    }
   ],
   "source": [
    "print(x_train.shape,y_train.shape,x_test.shape,y_test.shape)"
   ]
  },
  {
   "cell_type": "markdown",
   "metadata": {
    "papermill": {
     "duration": 0.04585,
     "end_time": "2020-12-17T19:30:51.876124",
     "exception": false,
     "start_time": "2020-12-17T19:30:51.830274",
     "status": "completed"
    },
    "tags": []
   },
   "source": [
    "# 1)\tLinear Regression"
   ]
  },
  {
   "cell_type": "code",
   "execution_count": 26,
   "metadata": {
    "execution": {
     "iopub.execute_input": "2020-12-17T19:30:51.973231Z",
     "iopub.status.busy": "2020-12-17T19:30:51.972508Z",
     "iopub.status.idle": "2020-12-17T19:30:52.069453Z",
     "shell.execute_reply": "2020-12-17T19:30:52.068701Z"
    },
    "papermill": {
     "duration": 0.147422,
     "end_time": "2020-12-17T19:30:52.069582",
     "exception": false,
     "start_time": "2020-12-17T19:30:51.922160",
     "status": "completed"
    },
    "tags": []
   },
   "outputs": [],
   "source": [
    "from sklearn import linear_model"
   ]
  },
  {
   "cell_type": "code",
   "execution_count": 27,
   "metadata": {
    "execution": {
     "iopub.execute_input": "2020-12-17T19:30:52.168942Z",
     "iopub.status.busy": "2020-12-17T19:30:52.168095Z",
     "iopub.status.idle": "2020-12-17T19:30:52.171191Z",
     "shell.execute_reply": "2020-12-17T19:30:52.170504Z"
    },
    "papermill": {
     "duration": 0.05404,
     "end_time": "2020-12-17T19:30:52.171312",
     "exception": false,
     "start_time": "2020-12-17T19:30:52.117272",
     "status": "completed"
    },
    "tags": []
   },
   "outputs": [],
   "source": [
    "#Train the model\n",
    "lir= linear_model.LinearRegression()"
   ]
  },
  {
   "cell_type": "code",
   "execution_count": 28,
   "metadata": {
    "execution": {
     "iopub.execute_input": "2020-12-17T19:30:52.327902Z",
     "iopub.status.busy": "2020-12-17T19:30:52.291717Z",
     "iopub.status.idle": "2020-12-17T19:30:52.337069Z",
     "shell.execute_reply": "2020-12-17T19:30:52.336424Z"
    },
    "papermill": {
     "duration": 0.118818,
     "end_time": "2020-12-17T19:30:52.337198",
     "exception": false,
     "start_time": "2020-12-17T19:30:52.218380",
     "status": "completed"
    },
    "tags": []
   },
   "outputs": [
    {
     "data": {
      "text/plain": [
       "LinearRegression(copy_X=True, fit_intercept=True, n_jobs=None, normalize=False)"
      ]
     },
     "execution_count": 28,
     "metadata": {},
     "output_type": "execute_result"
    }
   ],
   "source": [
    "#Fit the model\n",
    "lir.fit(x_train, y_train)"
   ]
  },
  {
   "cell_type": "code",
   "execution_count": 29,
   "metadata": {},
   "outputs": [
    {
     "data": {
      "text/plain": [
       "array([ 0.87359024, -0.16272442, -0.03668109,  0.36677001,  0.60192222,\n",
       "        0.05265115,  0.62588224, -0.12508186,  1.01289882,  0.50703056,\n",
       "        0.75874056, -0.08874353,  0.73370027,  0.98420601,  0.28540013,\n",
       "        0.38635627,  0.46346801,  0.69085853,  0.904262  ,  0.21204843,\n",
       "       -0.20395913,  0.12065868,  1.17923968,  0.12855946,  0.32625344,\n",
       "        0.78800798,  0.65490023,  0.98225035,  1.22453457,  0.06858759,\n",
       "        0.95264052,  0.80755308,  0.61525911,  0.69182896,  0.10758913,\n",
       "        0.02986982,  0.87035775,  0.7311118 ,  0.34499983,  0.73810311,\n",
       "        0.68599992,  0.14980822,  0.58153463, -0.180895  ,  0.20036612,\n",
       "        0.17225928, -0.13822841,  0.13199392,  0.11898531, -0.19150022,\n",
       "       -0.03438983,  0.6879803 ,  0.92434654,  0.75205441,  1.14254157,\n",
       "        0.63629277,  0.68859395,  0.4972103 ,  0.55215003,  0.83508418,\n",
       "        0.38782085,  0.22909109,  0.28364905,  0.61112035,  0.6131179 ,\n",
       "        0.99545183, -0.20353183,  0.95630753,  0.83312576, -0.01971139,\n",
       "        0.27844482,  0.68669428,  1.05867036, -0.01705281, -0.12058219,\n",
       "        0.84942949,  0.33165397,  0.81630836,  0.81829531,  1.14636999,\n",
       "        0.92774132,  0.60413652,  0.96136507,  0.32368146,  0.49485345,\n",
       "        0.60537839,  0.17345018, -0.00707994,  0.96534918,  0.2122755 ,\n",
       "        0.44602486])"
      ]
     },
     "execution_count": 29,
     "metadata": {},
     "output_type": "execute_result"
    }
   ],
   "source": [
    "#predicting the test values\n",
    "pred=lir.predict(x_test)\n",
    "pred"
   ]
  },
  {
   "cell_type": "code",
   "execution_count": 30,
   "metadata": {
    "execution": {
     "iopub.execute_input": "2020-12-17T19:30:52.442509Z",
     "iopub.status.busy": "2020-12-17T19:30:52.441519Z",
     "iopub.status.idle": "2020-12-17T19:30:52.445048Z",
     "shell.execute_reply": "2020-12-17T19:30:52.445907Z"
    },
    "papermill": {
     "duration": 0.061272,
     "end_time": "2020-12-17T19:30:52.446087",
     "exception": false,
     "start_time": "2020-12-17T19:30:52.384815",
     "status": "completed"
    },
    "tags": []
   },
   "outputs": [
    {
     "name": "stdout",
     "output_type": "stream",
     "text": [
      "Accuracy -->  61.92080729355573\n"
     ]
    }
   ],
   "source": [
    "#Score/Accuracy\n",
    "print(\"Accuracy --> \", lir.score(x_test, y_test)*100)"
   ]
  },
  {
   "cell_type": "markdown",
   "metadata": {
    "papermill": {
     "duration": 0.047294,
     "end_time": "2020-12-17T19:30:52.542306",
     "exception": false,
     "start_time": "2020-12-17T19:30:52.495012",
     "status": "completed"
    },
    "tags": []
   },
   "source": [
    "# 2) logistic regression"
   ]
  },
  {
   "cell_type": "code",
   "execution_count": 31,
   "metadata": {
    "execution": {
     "iopub.execute_input": "2020-12-17T19:30:52.643753Z",
     "iopub.status.busy": "2020-12-17T19:30:52.642800Z",
     "iopub.status.idle": "2020-12-17T19:30:52.645982Z",
     "shell.execute_reply": "2020-12-17T19:30:52.645429Z"
    },
    "papermill": {
     "duration": 0.056198,
     "end_time": "2020-12-17T19:30:52.646102",
     "exception": false,
     "start_time": "2020-12-17T19:30:52.589904",
     "status": "completed"
    },
    "tags": []
   },
   "outputs": [],
   "source": [
    "from sklearn.linear_model import LogisticRegression"
   ]
  },
  {
   "cell_type": "code",
   "execution_count": 32,
   "metadata": {
    "execution": {
     "iopub.execute_input": "2020-12-17T19:30:52.747148Z",
     "iopub.status.busy": "2020-12-17T19:30:52.746254Z",
     "iopub.status.idle": "2020-12-17T19:30:52.748910Z",
     "shell.execute_reply": "2020-12-17T19:30:52.748380Z"
    },
    "papermill": {
     "duration": 0.055082,
     "end_time": "2020-12-17T19:30:52.749024",
     "exception": false,
     "start_time": "2020-12-17T19:30:52.693942",
     "status": "completed"
    },
    "tags": []
   },
   "outputs": [],
   "source": [
    "lor= LogisticRegression()"
   ]
  },
  {
   "cell_type": "code",
   "execution_count": 33,
   "metadata": {
    "execution": {
     "iopub.execute_input": "2020-12-17T19:30:52.882272Z",
     "iopub.status.busy": "2020-12-17T19:30:52.850626Z",
     "iopub.status.idle": "2020-12-17T19:30:52.893987Z",
     "shell.execute_reply": "2020-12-17T19:30:52.893181Z"
    },
    "papermill": {
     "duration": 0.097448,
     "end_time": "2020-12-17T19:30:52.894126",
     "exception": false,
     "start_time": "2020-12-17T19:30:52.796678",
     "status": "completed"
    },
    "tags": []
   },
   "outputs": [
    {
     "name": "stderr",
     "output_type": "stream",
     "text": [
      "C:\\Users\\DEEPTHI\\Anaconda3\\lib\\site-packages\\sklearn\\linear_model\\logistic.py:432: FutureWarning: Default solver will be changed to 'lbfgs' in 0.22. Specify a solver to silence this warning.\n",
      "  FutureWarning)\n"
     ]
    },
    {
     "data": {
      "text/plain": [
       "LogisticRegression(C=1.0, class_weight=None, dual=False, fit_intercept=True,\n",
       "                   intercept_scaling=1, l1_ratio=None, max_iter=100,\n",
       "                   multi_class='warn', n_jobs=None, penalty='l2',\n",
       "                   random_state=None, solver='warn', tol=0.0001, verbose=0,\n",
       "                   warm_start=False)"
      ]
     },
     "execution_count": 33,
     "metadata": {},
     "output_type": "execute_result"
    }
   ],
   "source": [
    "#Fit the model\n",
    "lor.fit(x_train, y_train)"
   ]
  },
  {
   "cell_type": "code",
   "execution_count": 34,
   "metadata": {
    "execution": {
     "iopub.execute_input": "2020-12-17T19:30:53.005367Z",
     "iopub.status.busy": "2020-12-17T19:30:53.004502Z",
     "iopub.status.idle": "2020-12-17T19:30:53.007600Z",
     "shell.execute_reply": "2020-12-17T19:30:53.008220Z"
    },
    "papermill": {
     "duration": 0.061219,
     "end_time": "2020-12-17T19:30:53.008409",
     "exception": false,
     "start_time": "2020-12-17T19:30:52.947190",
     "status": "completed"
    },
    "tags": []
   },
   "outputs": [
    {
     "data": {
      "text/plain": [
       "array([1, 0, 0, 0, 1, 0, 1, 0, 1, 0, 1, 0, 1, 1, 0, 0, 0, 1, 1, 0, 0, 0,\n",
       "       1, 0, 0, 1, 1, 1, 1, 0, 1, 1, 1, 1, 0, 0, 1, 1, 0, 1, 1, 0, 1, 0,\n",
       "       0, 0, 0, 0, 0, 0, 0, 1, 1, 1, 1, 1, 1, 0, 0, 1, 0, 0, 0, 1, 1, 1,\n",
       "       0, 1, 1, 0, 0, 1, 1, 0, 0, 1, 0, 1, 1, 1, 1, 1, 1, 0, 1, 1, 0, 0,\n",
       "       1, 0, 0], dtype=int64)"
      ]
     },
     "execution_count": 34,
     "metadata": {},
     "output_type": "execute_result"
    }
   ],
   "source": [
    "pred= lor.predict(x_test)\n",
    "pred"
   ]
  },
  {
   "cell_type": "code",
   "execution_count": 35,
   "metadata": {
    "execution": {
     "iopub.execute_input": "2020-12-17T19:30:53.121501Z",
     "iopub.status.busy": "2020-12-17T19:30:53.120807Z",
     "iopub.status.idle": "2020-12-17T19:30:53.124092Z",
     "shell.execute_reply": "2020-12-17T19:30:53.124513Z"
    },
    "papermill": {
     "duration": 0.061246,
     "end_time": "2020-12-17T19:30:53.124658",
     "exception": false,
     "start_time": "2020-12-17T19:30:53.063412",
     "status": "completed"
    },
    "tags": []
   },
   "outputs": [
    {
     "name": "stdout",
     "output_type": "stream",
     "text": [
      "Accuracy -->  92.3076923076923\n"
     ]
    }
   ],
   "source": [
    "#Score/Accuracy\n",
    "print(\"Accuracy --> \", lor.score(x_test, y_test)*100)"
   ]
  },
  {
   "cell_type": "markdown",
   "metadata": {
    "papermill": {
     "duration": 0.049211,
     "end_time": "2020-12-17T19:30:53.223207",
     "exception": false,
     "start_time": "2020-12-17T19:30:53.173996",
     "status": "completed"
    },
    "tags": []
   },
   "source": [
    "# 3 ) Random Forest Regression"
   ]
  },
  {
   "cell_type": "code",
   "execution_count": 36,
   "metadata": {
    "execution": {
     "iopub.execute_input": "2020-12-17T19:30:53.326544Z",
     "iopub.status.busy": "2020-12-17T19:30:53.325836Z",
     "iopub.status.idle": "2020-12-17T19:30:53.453343Z",
     "shell.execute_reply": "2020-12-17T19:30:53.452612Z"
    },
    "papermill": {
     "duration": 0.180604,
     "end_time": "2020-12-17T19:30:53.453460",
     "exception": false,
     "start_time": "2020-12-17T19:30:53.272856",
     "status": "completed"
    },
    "tags": []
   },
   "outputs": [],
   "source": [
    "from sklearn.ensemble import RandomForestRegressor"
   ]
  },
  {
   "cell_type": "code",
   "execution_count": 37,
   "metadata": {
    "execution": {
     "iopub.execute_input": "2020-12-17T19:30:53.557603Z",
     "iopub.status.busy": "2020-12-17T19:30:53.556961Z",
     "iopub.status.idle": "2020-12-17T19:30:53.559771Z",
     "shell.execute_reply": "2020-12-17T19:30:53.560287Z"
    },
    "papermill": {
     "duration": 0.057494,
     "end_time": "2020-12-17T19:30:53.560444",
     "exception": false,
     "start_time": "2020-12-17T19:30:53.502950",
     "status": "completed"
    },
    "tags": []
   },
   "outputs": [],
   "source": [
    "#Train the model\n",
    "rmf = RandomForestRegressor(n_estimators=50)"
   ]
  },
  {
   "cell_type": "code",
   "execution_count": 38,
   "metadata": {
    "execution": {
     "iopub.execute_input": "2020-12-17T19:30:53.670056Z",
     "iopub.status.busy": "2020-12-17T19:30:53.664581Z",
     "iopub.status.idle": "2020-12-17T19:30:55.359172Z",
     "shell.execute_reply": "2020-12-17T19:30:55.359955Z"
    },
    "papermill": {
     "duration": 1.750803,
     "end_time": "2020-12-17T19:30:55.360169",
     "exception": false,
     "start_time": "2020-12-17T19:30:53.609366",
     "status": "completed"
    },
    "tags": []
   },
   "outputs": [
    {
     "data": {
      "text/plain": [
       "RandomForestRegressor(bootstrap=True, criterion='mse', max_depth=None,\n",
       "                      max_features='auto', max_leaf_nodes=None,\n",
       "                      min_impurity_decrease=0.0, min_impurity_split=None,\n",
       "                      min_samples_leaf=1, min_samples_split=2,\n",
       "                      min_weight_fraction_leaf=0.0, n_estimators=50,\n",
       "                      n_jobs=None, oob_score=False, random_state=None,\n",
       "                      verbose=0, warm_start=False)"
      ]
     },
     "execution_count": 38,
     "metadata": {},
     "output_type": "execute_result"
    }
   ],
   "source": [
    "#Fit\n",
    "rmf.fit(x_train, y_train)"
   ]
  },
  {
   "cell_type": "code",
   "execution_count": 39,
   "metadata": {},
   "outputs": [
    {
     "data": {
      "text/plain": [
       "array([0.76, 0.08, 0.04, 0.1 , 0.64, 0.04, 0.66, 0.06, 1.  , 0.9 , 1.  ,\n",
       "       0.1 , 0.68, 0.94, 0.84, 0.24, 0.5 , 0.32, 0.94, 0.16, 0.  , 0.04,\n",
       "       1.  , 0.08, 0.3 , 0.94, 0.74, 0.98, 0.94, 0.02, 0.7 , 1.  , 0.62,\n",
       "       0.9 , 0.1 , 0.32, 0.96, 0.94, 0.16, 0.74, 0.62, 0.16, 0.4 , 0.08,\n",
       "       0.34, 0.12, 0.  , 0.18, 0.14, 0.12, 0.12, 0.74, 0.84, 0.78, 1.  ,\n",
       "       0.74, 0.6 , 0.5 , 0.56, 0.94, 0.24, 0.24, 0.04, 0.72, 0.78, 1.  ,\n",
       "       0.14, 1.  , 1.  , 0.  , 0.42, 0.64, 1.  , 0.1 , 0.06, 1.  , 0.26,\n",
       "       0.96, 0.52, 0.88, 1.  , 0.56, 0.98, 0.18, 0.56, 0.8 , 0.36, 0.22,\n",
       "       1.  , 0.1 , 0.44])"
      ]
     },
     "execution_count": 39,
     "metadata": {},
     "output_type": "execute_result"
    }
   ],
   "source": [
    "pred=rmf.predict(x_test)\n",
    "pred"
   ]
  },
  {
   "cell_type": "code",
   "execution_count": 40,
   "metadata": {
    "execution": {
     "iopub.execute_input": "2020-12-17T19:30:55.482125Z",
     "iopub.status.busy": "2020-12-17T19:30:55.480495Z",
     "iopub.status.idle": "2020-12-17T19:30:55.557530Z",
     "shell.execute_reply": "2020-12-17T19:30:55.558270Z"
    },
    "papermill": {
     "duration": 0.140728,
     "end_time": "2020-12-17T19:30:55.558574",
     "exception": false,
     "start_time": "2020-12-17T19:30:55.417846",
     "status": "completed"
    },
    "tags": []
   },
   "outputs": [
    {
     "name": "stdout",
     "output_type": "stream",
     "text": [
      "Accuracy -->  66.28238372093026\n"
     ]
    }
   ],
   "source": [
    "#Score/Accuracy\n",
    "print(\"Accuracy --> \", rmf.score(x_test, y_test)*100)"
   ]
  },
  {
   "cell_type": "markdown",
   "metadata": {
    "papermill": {
     "duration": 0.051926,
     "end_time": "2020-12-17T19:30:56.294167",
     "exception": false,
     "start_time": "2020-12-17T19:30:56.242241",
     "status": "completed"
    },
    "tags": []
   },
   "source": [
    "# 4) KNN"
   ]
  },
  {
   "cell_type": "code",
   "execution_count": 41,
   "metadata": {
    "execution": {
     "iopub.execute_input": "2020-12-17T19:30:56.404366Z",
     "iopub.status.busy": "2020-12-17T19:30:56.403472Z",
     "iopub.status.idle": "2020-12-17T19:30:56.407137Z",
     "shell.execute_reply": "2020-12-17T19:30:56.406633Z"
    },
    "papermill": {
     "duration": 0.061158,
     "end_time": "2020-12-17T19:30:56.407261",
     "exception": false,
     "start_time": "2020-12-17T19:30:56.346103",
     "status": "completed"
    },
    "tags": []
   },
   "outputs": [],
   "source": [
    "from sklearn.neighbors import KNeighborsClassifier"
   ]
  },
  {
   "cell_type": "code",
   "execution_count": 42,
   "metadata": {
    "execution": {
     "iopub.execute_input": "2020-12-17T19:30:56.516316Z",
     "iopub.status.busy": "2020-12-17T19:30:56.515419Z",
     "iopub.status.idle": "2020-12-17T19:30:56.518022Z",
     "shell.execute_reply": "2020-12-17T19:30:56.518472Z"
    },
    "papermill": {
     "duration": 0.059238,
     "end_time": "2020-12-17T19:30:56.518616",
     "exception": false,
     "start_time": "2020-12-17T19:30:56.459378",
     "status": "completed"
    },
    "tags": []
   },
   "outputs": [],
   "source": [
    "knn = KNeighborsClassifier(n_neighbors=25)"
   ]
  },
  {
   "cell_type": "code",
   "execution_count": 43,
   "metadata": {
    "execution": {
     "iopub.execute_input": "2020-12-17T19:30:56.636347Z",
     "iopub.status.busy": "2020-12-17T19:30:56.635347Z",
     "iopub.status.idle": "2020-12-17T19:30:56.639484Z",
     "shell.execute_reply": "2020-12-17T19:30:56.638914Z"
    },
    "papermill": {
     "duration": 0.064583,
     "end_time": "2020-12-17T19:30:56.639598",
     "exception": false,
     "start_time": "2020-12-17T19:30:56.575015",
     "status": "completed"
    },
    "tags": []
   },
   "outputs": [
    {
     "data": {
      "text/plain": [
       "KNeighborsClassifier(algorithm='auto', leaf_size=30, metric='minkowski',\n",
       "                     metric_params=None, n_jobs=None, n_neighbors=25, p=2,\n",
       "                     weights='uniform')"
      ]
     },
     "execution_count": 43,
     "metadata": {},
     "output_type": "execute_result"
    }
   ],
   "source": [
    "knn.fit(x_train, y_train)"
   ]
  },
  {
   "cell_type": "code",
   "execution_count": 44,
   "metadata": {
    "execution": {
     "iopub.execute_input": "2020-12-17T19:30:56.751992Z",
     "iopub.status.busy": "2020-12-17T19:30:56.750947Z",
     "iopub.status.idle": "2020-12-17T19:30:56.758072Z",
     "shell.execute_reply": "2020-12-17T19:30:56.757431Z"
    },
    "papermill": {
     "duration": 0.066678,
     "end_time": "2020-12-17T19:30:56.758191",
     "exception": false,
     "start_time": "2020-12-17T19:30:56.691513",
     "status": "completed"
    },
    "tags": []
   },
   "outputs": [
    {
     "data": {
      "text/plain": [
       "array([1, 0, 0, 0, 1, 0, 1, 0, 1, 1, 0, 0, 1, 1, 0, 1, 0, 1, 0, 0, 0, 0,\n",
       "       1, 0, 1, 1, 1, 1, 0, 0, 1, 1, 1, 1, 1, 0, 1, 1, 0, 1, 1, 0, 1, 0,\n",
       "       1, 1, 0, 0, 1, 0, 0, 1, 1, 0, 1, 0, 1, 1, 0, 1, 0, 0, 0, 1, 1, 0,\n",
       "       0, 1, 1, 0, 1, 1, 1, 0, 0, 1, 0, 1, 1, 1, 1, 1, 1, 1, 1, 1, 0, 0,\n",
       "       1, 0, 0], dtype=int64)"
      ]
     },
     "execution_count": 44,
     "metadata": {},
     "output_type": "execute_result"
    }
   ],
   "source": [
    "pred = knn.predict(x_test)\n",
    "pred"
   ]
  },
  {
   "cell_type": "code",
   "execution_count": 45,
   "metadata": {
    "execution": {
     "iopub.execute_input": "2020-12-17T19:30:56.870278Z",
     "iopub.status.busy": "2020-12-17T19:30:56.869612Z",
     "iopub.status.idle": "2020-12-17T19:30:56.876631Z",
     "shell.execute_reply": "2020-12-17T19:30:56.877172Z"
    },
    "papermill": {
     "duration": 0.067164,
     "end_time": "2020-12-17T19:30:56.877321",
     "exception": false,
     "start_time": "2020-12-17T19:30:56.810157",
     "status": "completed"
    },
    "tags": []
   },
   "outputs": [
    {
     "name": "stdout",
     "output_type": "stream",
     "text": [
      "Accuracy -->  79.12087912087912\n"
     ]
    }
   ],
   "source": [
    "#Score/Accuracy\n",
    "print(\"Accuracy --> \", knn.score(x_test, y_test)*100)"
   ]
  },
  {
   "cell_type": "markdown",
   "metadata": {
    "papermill": {
     "duration": 0.05154,
     "end_time": "2020-12-17T19:30:56.981457",
     "exception": false,
     "start_time": "2020-12-17T19:30:56.929917",
     "status": "completed"
    },
    "tags": []
   },
   "source": [
    "# 5) decision tree "
   ]
  },
  {
   "cell_type": "code",
   "execution_count": 46,
   "metadata": {
    "execution": {
     "iopub.execute_input": "2020-12-17T19:30:57.092905Z",
     "iopub.status.busy": "2020-12-17T19:30:57.091968Z",
     "iopub.status.idle": "2020-12-17T19:30:57.095145Z",
     "shell.execute_reply": "2020-12-17T19:30:57.094496Z"
    },
    "papermill": {
     "duration": 0.061248,
     "end_time": "2020-12-17T19:30:57.095258",
     "exception": false,
     "start_time": "2020-12-17T19:30:57.034010",
     "status": "completed"
    },
    "tags": []
   },
   "outputs": [],
   "source": [
    "from sklearn import tree"
   ]
  },
  {
   "cell_type": "code",
   "execution_count": 47,
   "metadata": {
    "execution": {
     "iopub.execute_input": "2020-12-17T19:30:57.205563Z",
     "iopub.status.busy": "2020-12-17T19:30:57.204557Z",
     "iopub.status.idle": "2020-12-17T19:30:57.207680Z",
     "shell.execute_reply": "2020-12-17T19:30:57.207207Z"
    },
    "papermill": {
     "duration": 0.059827,
     "end_time": "2020-12-17T19:30:57.207815",
     "exception": false,
     "start_time": "2020-12-17T19:30:57.147988",
     "status": "completed"
    },
    "tags": []
   },
   "outputs": [],
   "source": [
    "dt = tree.DecisionTreeClassifier()"
   ]
  },
  {
   "cell_type": "code",
   "execution_count": 48,
   "metadata": {
    "execution": {
     "iopub.execute_input": "2020-12-17T19:30:57.321019Z",
     "iopub.status.busy": "2020-12-17T19:30:57.320154Z",
     "iopub.status.idle": "2020-12-17T19:30:57.326154Z",
     "shell.execute_reply": "2020-12-17T19:30:57.325571Z"
    },
    "papermill": {
     "duration": 0.065415,
     "end_time": "2020-12-17T19:30:57.326270",
     "exception": false,
     "start_time": "2020-12-17T19:30:57.260855",
     "status": "completed"
    },
    "tags": []
   },
   "outputs": [
    {
     "data": {
      "text/plain": [
       "DecisionTreeClassifier(class_weight=None, criterion='gini', max_depth=None,\n",
       "                       max_features=None, max_leaf_nodes=None,\n",
       "                       min_impurity_decrease=0.0, min_impurity_split=None,\n",
       "                       min_samples_leaf=1, min_samples_split=2,\n",
       "                       min_weight_fraction_leaf=0.0, presort=False,\n",
       "                       random_state=None, splitter='best')"
      ]
     },
     "execution_count": 48,
     "metadata": {},
     "output_type": "execute_result"
    }
   ],
   "source": [
    "dt.fit(x_train,y_train)"
   ]
  },
  {
   "cell_type": "code",
   "execution_count": 49,
   "metadata": {
    "execution": {
     "iopub.execute_input": "2020-12-17T19:30:57.439489Z",
     "iopub.status.busy": "2020-12-17T19:30:57.438609Z",
     "iopub.status.idle": "2020-12-17T19:30:57.441627Z",
     "shell.execute_reply": "2020-12-17T19:30:57.441093Z"
    },
    "papermill": {
     "duration": 0.062499,
     "end_time": "2020-12-17T19:30:57.441793",
     "exception": false,
     "start_time": "2020-12-17T19:30:57.379294",
     "status": "completed"
    },
    "tags": []
   },
   "outputs": [
    {
     "data": {
      "text/plain": [
       "array([1, 0, 1, 0, 1, 0, 0, 0, 1, 1, 1, 0, 1, 1, 1, 0, 0, 0, 1, 0, 0, 0,\n",
       "       1, 0, 0, 1, 1, 1, 1, 0, 1, 1, 1, 1, 0, 1, 1, 1, 0, 1, 1, 0, 1, 0,\n",
       "       1, 0, 0, 0, 0, 0, 0, 1, 0, 1, 1, 1, 1, 0, 0, 1, 0, 0, 0, 1, 1, 1,\n",
       "       0, 1, 1, 0, 1, 1, 1, 0, 0, 1, 0, 1, 0, 1, 1, 0, 1, 0, 1, 1, 0, 0,\n",
       "       1, 0, 0], dtype=int64)"
      ]
     },
     "execution_count": 49,
     "metadata": {},
     "output_type": "execute_result"
    }
   ],
   "source": [
    "pred = dt.predict(x_test)\n",
    "pred"
   ]
  },
  {
   "cell_type": "code",
   "execution_count": 50,
   "metadata": {
    "execution": {
     "iopub.execute_input": "2020-12-17T19:30:57.557426Z",
     "iopub.status.busy": "2020-12-17T19:30:57.556379Z",
     "iopub.status.idle": "2020-12-17T19:30:57.560114Z",
     "shell.execute_reply": "2020-12-17T19:30:57.560993Z"
    },
    "papermill": {
     "duration": 0.064993,
     "end_time": "2020-12-17T19:30:57.561196",
     "exception": false,
     "start_time": "2020-12-17T19:30:57.496203",
     "status": "completed"
    },
    "tags": []
   },
   "outputs": [
    {
     "name": "stdout",
     "output_type": "stream",
     "text": [
      "Accuracy -->  84.61538461538461\n"
     ]
    }
   ],
   "source": [
    "#Score/Accuracy\n",
    "print(\"Accuracy --> \", dt.score(x_test, y_test)*100)"
   ]
  },
  {
   "cell_type": "markdown",
   "metadata": {
    "papermill": {
     "duration": 0.053631,
     "end_time": "2020-12-17T19:30:57.669853",
     "exception": false,
     "start_time": "2020-12-17T19:30:57.616222",
     "status": "completed"
    },
    "tags": []
   },
   "source": [
    "# 6) XGBoost"
   ]
  },
  {
   "cell_type": "code",
   "execution_count": 51,
   "metadata": {},
   "outputs": [],
   "source": [
    "import xgboost as xgb"
   ]
  },
  {
   "cell_type": "code",
   "execution_count": 52,
   "metadata": {
    "execution": {
     "iopub.execute_input": "2020-12-17T19:30:58.846642Z",
     "iopub.status.busy": "2020-12-17T19:30:58.845933Z",
     "iopub.status.idle": "2020-12-17T19:30:58.849262Z",
     "shell.execute_reply": "2020-12-17T19:30:58.848630Z"
    },
    "papermill": {
     "duration": 0.062028,
     "end_time": "2020-12-17T19:30:58.849376",
     "exception": false,
     "start_time": "2020-12-17T19:30:58.787348",
     "status": "completed"
    },
    "tags": []
   },
   "outputs": [],
   "source": [
    "xgbreg = xgb.XGBRegressor(objective ='reg:linear', colsample_bytree = 0.3, learning_rate = 0.1,\n",
    "                max_depth = 5, alpha = 10, n_estimators = 10)"
   ]
  },
  {
   "cell_type": "code",
   "execution_count": 53,
   "metadata": {
    "execution": {
     "iopub.execute_input": "2020-12-17T19:30:58.961232Z",
     "iopub.status.busy": "2020-12-17T19:30:58.960562Z",
     "iopub.status.idle": "2020-12-17T19:30:58.996518Z",
     "shell.execute_reply": "2020-12-17T19:30:58.997417Z"
    },
    "papermill": {
     "duration": 0.094838,
     "end_time": "2020-12-17T19:30:58.997656",
     "exception": false,
     "start_time": "2020-12-17T19:30:58.902818",
     "status": "completed"
    },
    "tags": []
   },
   "outputs": [
    {
     "name": "stdout",
     "output_type": "stream",
     "text": [
      "[12:49:06] WARNING: C:/Users/Administrator/workspace/xgboost-win64_release_1.6.0/src/objective/regression_obj.cu:203: reg:linear is now deprecated in favor of reg:squarederror.\n"
     ]
    },
    {
     "data": {
      "text/plain": [
       "XGBRegressor(alpha=10, base_score=0.5, booster='gbtree', callbacks=None,\n",
       "             colsample_bylevel=1, colsample_bynode=1, colsample_bytree=0.3,\n",
       "             early_stopping_rounds=None, enable_categorical=False,\n",
       "             eval_metric=None, gamma=0, gpu_id=-1, grow_policy='depthwise',\n",
       "             importance_type=None, interaction_constraints='',\n",
       "             learning_rate=0.1, max_bin=256, max_cat_to_onehot=4,\n",
       "             max_delta_step=0, max_depth=5, max_leaves=0, min_child_weight=1,\n",
       "             missing=nan, monotone_constraints='()', n_estimators=10, n_jobs=0,\n",
       "             num_parallel_tree=1, objective='reg:linear', predictor='auto',\n",
       "             random_state=0, ...)"
      ]
     },
     "execution_count": 53,
     "metadata": {},
     "output_type": "execute_result"
    }
   ],
   "source": [
    "xgbreg.fit(x_train,y_train)"
   ]
  },
  {
   "cell_type": "code",
   "execution_count": 54,
   "metadata": {
    "execution": {
     "iopub.execute_input": "2020-12-17T19:30:59.166477Z",
     "iopub.status.busy": "2020-12-17T19:30:59.165579Z",
     "iopub.status.idle": "2020-12-17T19:30:59.170572Z",
     "shell.execute_reply": "2020-12-17T19:30:59.171346Z"
    },
    "papermill": {
     "duration": 0.091354,
     "end_time": "2020-12-17T19:30:59.171539",
     "exception": false,
     "start_time": "2020-12-17T19:30:59.080185",
     "status": "completed"
    },
    "tags": []
   },
   "outputs": [
    {
     "data": {
      "text/plain": [
       "array([0.5655772 , 0.37817654, 0.43097332, 0.45890212, 0.53548306,\n",
       "       0.39163673, 0.56340486, 0.39163673, 0.66000473, 0.59183466,\n",
       "       0.5879089 , 0.42113215, 0.59183466, 0.66000473, 0.549524  ,\n",
       "       0.47231784, 0.48763302, 0.55654   , 0.5339043 , 0.3879516 ,\n",
       "       0.37817654, 0.39163673, 0.642622  , 0.41952106, 0.56118584,\n",
       "       0.633042  , 0.56764764, 0.65167284, 0.58479446, 0.42113215,\n",
       "       0.52485347, 0.66000473, 0.548879  , 0.5693591 , 0.44044584,\n",
       "       0.46838456, 0.633042  , 0.6214987 , 0.43371   , 0.60058635,\n",
       "       0.54810447, 0.44999185, 0.5762689 , 0.37817654, 0.54285747,\n",
       "       0.42698565, 0.37817654, 0.40807107, 0.46994126, 0.41118917,\n",
       "       0.43643257, 0.57963103, 0.5930236 , 0.5856556 , 0.66000473,\n",
       "       0.57491666, 0.52485347, 0.49034542, 0.5929758 , 0.66000473,\n",
       "       0.48763302, 0.5137035 , 0.43090722, 0.59183466, 0.59453595,\n",
       "       0.6148717 , 0.37817654, 0.66000473, 0.66000473, 0.37817654,\n",
       "       0.4766005 , 0.5771532 , 0.66000473, 0.4414145 , 0.38861772,\n",
       "       0.66000473, 0.42336562, 0.66000473, 0.55937904, 0.65167284,\n",
       "       0.66000473, 0.56340486, 0.66000473, 0.46292132, 0.4936822 ,\n",
       "       0.633042  , 0.483608  , 0.42243102, 0.66000473, 0.47402802,\n",
       "       0.55303127], dtype=float32)"
      ]
     },
     "execution_count": 54,
     "metadata": {},
     "output_type": "execute_result"
    }
   ],
   "source": [
    "pred = xgbreg.predict(x_test)\n",
    "pred"
   ]
  },
  {
   "cell_type": "code",
   "execution_count": 55,
   "metadata": {
    "execution": {
     "iopub.execute_input": "2020-12-17T19:30:59.337522Z",
     "iopub.status.busy": "2020-12-17T19:30:59.336637Z",
     "iopub.status.idle": "2020-12-17T19:30:59.343905Z",
     "shell.execute_reply": "2020-12-17T19:30:59.344690Z"
    },
    "papermill": {
     "duration": 0.092925,
     "end_time": "2020-12-17T19:30:59.344901",
     "exception": false,
     "start_time": "2020-12-17T19:30:59.251976",
     "status": "completed"
    },
    "tags": []
   },
   "outputs": [
    {
     "name": "stdout",
     "output_type": "stream",
     "text": [
      "Accuracy -->  26.68019726161156\n"
     ]
    }
   ],
   "source": [
    "#Score/Accuracy\n",
    "print(\"Accuracy --> \", xgbreg.score(x_test, y_test)*100)"
   ]
  },
  {
   "cell_type": "markdown",
   "metadata": {
    "papermill": {
     "duration": 0.058175,
     "end_time": "2020-12-17T19:31:00.398550",
     "exception": false,
     "start_time": "2020-12-17T19:31:00.340375",
     "status": "completed"
    },
    "tags": []
   },
   "source": [
    "# 7) naive-bayes"
   ]
  },
  {
   "cell_type": "code",
   "execution_count": 56,
   "metadata": {
    "execution": {
     "iopub.execute_input": "2020-12-17T19:31:00.524453Z",
     "iopub.status.busy": "2020-12-17T19:31:00.523611Z",
     "iopub.status.idle": "2020-12-17T19:31:00.530166Z",
     "shell.execute_reply": "2020-12-17T19:31:00.529464Z"
    },
    "papermill": {
     "duration": 0.07075,
     "end_time": "2020-12-17T19:31:00.530288",
     "exception": false,
     "start_time": "2020-12-17T19:31:00.459538",
     "status": "completed"
    },
    "tags": []
   },
   "outputs": [],
   "source": [
    "from sklearn.naive_bayes import GaussianNB"
   ]
  },
  {
   "cell_type": "code",
   "execution_count": 57,
   "metadata": {
    "execution": {
     "iopub.execute_input": "2020-12-17T19:31:00.651286Z",
     "iopub.status.busy": "2020-12-17T19:31:00.650570Z",
     "iopub.status.idle": "2020-12-17T19:31:00.653495Z",
     "shell.execute_reply": "2020-12-17T19:31:00.654064Z"
    },
    "papermill": {
     "duration": 0.065588,
     "end_time": "2020-12-17T19:31:00.654245",
     "exception": false,
     "start_time": "2020-12-17T19:31:00.588657",
     "status": "completed"
    },
    "tags": []
   },
   "outputs": [],
   "source": [
    "gnb= GaussianNB()"
   ]
  },
  {
   "cell_type": "code",
   "execution_count": 58,
   "metadata": {
    "execution": {
     "iopub.execute_input": "2020-12-17T19:31:00.781756Z",
     "iopub.status.busy": "2020-12-17T19:31:00.780638Z",
     "iopub.status.idle": "2020-12-17T19:31:00.784386Z",
     "shell.execute_reply": "2020-12-17T19:31:00.784883Z"
    },
    "papermill": {
     "duration": 0.070405,
     "end_time": "2020-12-17T19:31:00.785045",
     "exception": false,
     "start_time": "2020-12-17T19:31:00.714640",
     "status": "completed"
    },
    "tags": []
   },
   "outputs": [
    {
     "data": {
      "text/plain": [
       "GaussianNB(priors=None, var_smoothing=1e-09)"
      ]
     },
     "execution_count": 58,
     "metadata": {},
     "output_type": "execute_result"
    }
   ],
   "source": [
    "gnb.fit(x_train,y_train)"
   ]
  },
  {
   "cell_type": "code",
   "execution_count": 59,
   "metadata": {},
   "outputs": [
    {
     "data": {
      "text/plain": [
       "array([1, 0, 0, 0, 1, 0, 1, 0, 1, 1, 1, 0, 1, 1, 0, 0, 1, 1, 1, 0, 0, 0,\n",
       "       1, 0, 0, 1, 1, 1, 1, 0, 1, 1, 1, 1, 0, 0, 1, 1, 0, 1, 1, 0, 0, 0,\n",
       "       0, 0, 0, 0, 0, 0, 0, 1, 1, 1, 1, 1, 1, 0, 0, 1, 0, 0, 0, 1, 1, 1,\n",
       "       0, 1, 1, 0, 0, 0, 1, 0, 0, 1, 0, 1, 1, 1, 1, 1, 1, 0, 0, 1, 0, 0,\n",
       "       1, 0, 0], dtype=int64)"
      ]
     },
     "execution_count": 59,
     "metadata": {},
     "output_type": "execute_result"
    }
   ],
   "source": [
    "pred=gnb.predict(x_test)\n",
    "pred"
   ]
  },
  {
   "cell_type": "code",
   "execution_count": 60,
   "metadata": {
    "execution": {
     "iopub.execute_input": "2020-12-17T19:31:00.909865Z",
     "iopub.status.busy": "2020-12-17T19:31:00.909183Z",
     "iopub.status.idle": "2020-12-17T19:31:00.913719Z",
     "shell.execute_reply": "2020-12-17T19:31:00.913040Z"
    },
    "papermill": {
     "duration": 0.070453,
     "end_time": "2020-12-17T19:31:00.913856",
     "exception": false,
     "start_time": "2020-12-17T19:31:00.843403",
     "status": "completed"
    },
    "scrolled": true,
    "tags": []
   },
   "outputs": [
    {
     "name": "stdout",
     "output_type": "stream",
     "text": [
      "Accuracy -->  91.20879120879121\n"
     ]
    }
   ],
   "source": [
    "#Score/Accuracy\n",
    "print(\"Accuracy --> \",gnb.score(x_test, y_test)*100)"
   ]
  },
  {
   "cell_type": "markdown",
   "metadata": {
    "papermill": {
     "duration": 0.058655,
     "end_time": "2020-12-17T19:31:01.030527",
     "exception": false,
     "start_time": "2020-12-17T19:31:00.971872",
     "status": "completed"
    },
    "tags": []
   },
   "source": [
    "# 8) support vactor machine "
   ]
  },
  {
   "cell_type": "code",
   "execution_count": 61,
   "metadata": {
    "execution": {
     "iopub.execute_input": "2020-12-17T19:31:01.158671Z",
     "iopub.status.busy": "2020-12-17T19:31:01.157975Z",
     "iopub.status.idle": "2020-12-17T19:31:01.935531Z",
     "shell.execute_reply": "2020-12-17T19:31:01.934870Z"
    },
    "papermill": {
     "duration": 0.845094,
     "end_time": "2020-12-17T19:31:01.935659",
     "exception": false,
     "start_time": "2020-12-17T19:31:01.090565",
     "status": "completed"
    },
    "tags": []
   },
   "outputs": [
    {
     "data": {
      "text/plain": [
       "SVC(C=1.0, cache_size=200, class_weight=None, coef0=0.0,\n",
       "    decision_function_shape='ovr', degree=3, gamma='auto_deprecated',\n",
       "    kernel='linear', max_iter=-1, probability=False, random_state=None,\n",
       "    shrinking=True, tol=0.001, verbose=False)"
      ]
     },
     "execution_count": 61,
     "metadata": {},
     "output_type": "execute_result"
    }
   ],
   "source": [
    "#Import svm model\n",
    "from sklearn import svm\n",
    "\n",
    "#Create a svm Classifier\n",
    "svms= svm.SVC(kernel='linear') # Linear Kernel\n",
    "\n",
    "#Train the model using the training sets\n",
    "svms.fit(x_train, y_train)"
   ]
  },
  {
   "cell_type": "code",
   "execution_count": 62,
   "metadata": {},
   "outputs": [
    {
     "data": {
      "text/plain": [
       "array([1, 0, 0, 0, 1, 0, 1, 0, 1, 0, 1, 0, 1, 1, 0, 0, 0, 1, 1, 0, 0, 0,\n",
       "       1, 0, 0, 1, 1, 1, 1, 0, 1, 1, 1, 1, 0, 0, 1, 1, 0, 1, 1, 0, 1, 0,\n",
       "       0, 0, 0, 0, 0, 0, 0, 1, 1, 1, 1, 1, 1, 0, 0, 1, 0, 0, 0, 1, 1, 1,\n",
       "       0, 1, 1, 0, 0, 1, 1, 0, 0, 1, 0, 1, 1, 1, 1, 1, 1, 0, 1, 1, 0, 0,\n",
       "       1, 0, 0], dtype=int64)"
      ]
     },
     "execution_count": 62,
     "metadata": {},
     "output_type": "execute_result"
    }
   ],
   "source": [
    "#Predict the response for test dataset\n",
    "pred = svms.predict(x_test)\n",
    "pred"
   ]
  },
  {
   "cell_type": "code",
   "execution_count": 63,
   "metadata": {
    "execution": {
     "iopub.execute_input": "2020-12-17T19:31:02.060873Z",
     "iopub.status.busy": "2020-12-17T19:31:02.060188Z",
     "iopub.status.idle": "2020-12-17T19:31:02.065685Z",
     "shell.execute_reply": "2020-12-17T19:31:02.065191Z"
    },
    "papermill": {
     "duration": 0.071402,
     "end_time": "2020-12-17T19:31:02.065834",
     "exception": false,
     "start_time": "2020-12-17T19:31:01.994432",
     "status": "completed"
    },
    "tags": []
   },
   "outputs": [
    {
     "name": "stdout",
     "output_type": "stream",
     "text": [
      "Accuracy -->  92.3076923076923\n"
     ]
    }
   ],
   "source": [
    "#Score/Accuracy\n",
    "print(\"Accuracy --> \", svms.score(x_test, y_test)*100)"
   ]
  },
  {
   "cell_type": "code",
   "execution_count": null,
   "metadata": {},
   "outputs": [],
   "source": []
  }
 ],
 "metadata": {
  "kernelspec": {
   "display_name": "Python 3",
   "language": "python",
   "name": "python3"
  },
  "language_info": {
   "codemirror_mode": {
    "name": "ipython",
    "version": 3
   },
   "file_extension": ".py",
   "mimetype": "text/x-python",
   "name": "python",
   "nbconvert_exporter": "python",
   "pygments_lexer": "ipython3",
   "version": "3.7.4"
  },
  "papermill": {
   "duration": 21.957993,
   "end_time": "2020-12-17T19:31:02.350633",
   "environment_variables": {},
   "exception": null,
   "input_path": "__notebook__.ipynb",
   "output_path": "__notebook__.ipynb",
   "parameters": {},
   "start_time": "2020-12-17T19:30:40.392640",
   "version": "2.1.0"
  }
 },
 "nbformat": 4,
 "nbformat_minor": 4
}
